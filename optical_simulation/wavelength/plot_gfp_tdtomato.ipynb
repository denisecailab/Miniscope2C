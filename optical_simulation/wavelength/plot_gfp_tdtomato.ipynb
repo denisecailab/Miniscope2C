{
 "cells": [
  {
   "cell_type": "code",
   "execution_count": null,
   "metadata": {},
   "outputs": [],
   "source": [
    "import numpy as np\n",
    "import pandas as pd\n",
    "import holoviews as hv\n",
    "hv.notebook_extension('bokeh')"
   ]
  },
  {
   "cell_type": "code",
   "execution_count": null,
   "metadata": {},
   "outputs": [],
   "source": [
    "egfp = pd.read_csv(\"data/fpbase_spectra_EGFP.csv\")\n",
    "tomato = pd.read_csv(\"data/fpbase_spectra_tdTomato.csv\")\n",
    "ext_ft = pd.read_csv(\"data/zet488-561x.txt\", sep='\\t', names=['wavelength', 'trans_ext_ft'])\n",
    "ext_dich = pd.read_csv(\"data/zt488-561rpc.txt\", sep='\\t', names=['wavelength', 'trans_ext_dich'])\n",
    "emm_dich = pd.read_csv(\"data/t556lpxr.txt\", sep='\\t', names=['wavelength', 'trans_emm_dich'])\n",
    "emm_ft_side = pd.read_csv(\"data/et525-50m.txt\", sep='\\t', names=['wavelength', 'trans_emm_ft_side'])\n",
    "emm_ft_top = pd.read_csv(\"data/et600-50m.txt\", sep='\\t', names=['wavelength', 'trans_emm_ft_top'])"
   ]
  },
  {
   "cell_type": "code",
   "execution_count": null,
   "metadata": {},
   "outputs": [],
   "source": [
    "data = pd.concat([egfp, tomato, ext_ft, ext_dich, emm_dich, emm_ft_side, emm_ft_top], keys='wavelength', ignore_index=True, sort=True)\n",
    "data = data[data['wavelength'].between(300, 700)]"
   ]
  },
  {
   "cell_type": "code",
   "execution_count": null,
   "metadata": {},
   "outputs": [],
   "source": [
    "opts_plt = {'frame_height': 500, 'frame_width': 1000, 'ylabel': 'A.U.'}\n",
    "opts_ex = {'line_dash': 'dashed', 'line_width': 1, 'tools': ['hover']}\n",
    "opts_em = {'line_width': 1, 'tools': ['hover']}\n",
    "opts_area = {'alpha': 0.1, 'line_alpha': 0}\n",
    "opts_trans = {'line_width': 2, 'tools': ['hover']}\n",
    "hvplt = (\n",
    "    hv.Curve(data, kdims=['wavelength'], vdims=['EGFP ex'], label='EGFP ex').opts(color='lime', **opts_ex)\n",
    "    * hv.Area(data, kdims=['wavelength'], vdims=['EGFP ex'], label='EGFP ex').opts(color='lime', **opts_area)\n",
    "    * hv.Curve(data, kdims=['wavelength'], vdims=['EGFP em'], label='EGFP em').opts(color='green', **opts_em)\n",
    "    * hv.Area(data, kdims=['wavelength'], vdims=['EGFP em'], label='EGFP em').opts(color='green', **opts_area)\n",
    "    * hv.Curve(data, kdims=['wavelength'], vdims=['tdTomato ex'], label='tdTomato ex').opts(color='red', **opts_ex)\n",
    "    * hv.Area(data, kdims=['wavelength'], vdims=['tdTomato ex'], label='tdTomato ex').opts(color='red', **opts_area)\n",
    "    * hv.Curve(data, kdims=['wavelength'], vdims=['tdTomato em'], label='tdTomato em').opts(color='maroon', **opts_em)\n",
    "    * hv.Area(data, kdims=['wavelength'], vdims=['tdTomato em'], label='tdTomato em').opts(color='maroon', **opts_area)\n",
    "    * hv.Curve(data, kdims=['wavelength'], vdims=['trans_ext_ft'], label='excitation filter').opts(**opts_trans)\n",
    "    * hv.Curve(data, kdims=['wavelength'], vdims=['trans_ext_dich'], label='excitation dichroic').opts(**opts_trans)\n",
    "    * hv.Curve(data, kdims=['wavelength'], vdims=['trans_emm_dich'], label='emission dichroic').opts(**opts_trans)\n",
    "    * hv.Curve(data, kdims=['wavelength'], vdims=['trans_emm_ft_side'], label='emission filter side').opts(**opts_trans)\n",
    "    * hv.Curve(data, kdims=['wavelength'], vdims=['trans_emm_ft_top'], label='emission filter top').opts(**opts_trans)\n",
    ").opts(**opts_plt)\n",
    "hv.save(hvplt, 'plot_gfp_tdtomato.html')\n",
    "hvplt"
   ]
  }
 ],
 "metadata": {
  "kernelspec": {
   "display_name": "Python 3",
   "language": "python",
   "name": "python3"
  },
  "language_info": {
   "codemirror_mode": {
    "name": "ipython",
    "version": 3
   },
   "file_extension": ".py",
   "mimetype": "text/x-python",
   "name": "python",
   "nbconvert_exporter": "python",
   "pygments_lexer": "ipython3",
   "version": "3.6.7"
  }
 },
 "nbformat": 4,
 "nbformat_minor": 2
}
